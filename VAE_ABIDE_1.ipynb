{
 "cells": [
  {
   "cell_type": "code",
   "execution_count": null,
   "metadata": {
    "colab": {
     "autoexec": {
      "startup": false,
      "wait_interval": 0
     },
     "base_uri": "https://localhost:8080/",
     "height": 136,
     "output_extras": [
      {
       "item_id": 67
      },
      {
       "item_id": 73
      }
     ]
    },
    "colab_type": "code",
    "executionInfo": {
     "elapsed": 33102,
     "status": "ok",
     "timestamp": 1517991517463,
     "user": {
      "displayName": "Paweł Morawiecki",
      "photoUrl": "//lh6.googleusercontent.com/-XRVwUWS-5Ro/AAAAAAAAAAI/AAAAAAAAAyc/xBkFQRPclWw/s50-c-k-no/photo.jpg",
      "userId": "100547019570527921896"
     },
     "user_tz": -60
    },
    "id": "TBm7TJcwJ_b0",
    "outputId": "35f6889c-1454-4b17-97a2-b42c573e30b3"
   },
   "outputs": [],
   "source": [
    "!pip install http://download.pytorch.org/whl/cu80/torch-0.3.0.post4-cp36-cp36m-linux_x86_64.whl"
   ]
  },
  {
   "cell_type": "code",
   "execution_count": null,
   "metadata": {
    "colab": {
     "autoexec": {
      "startup": false,
      "wait_interval": 0
     },
     "base_uri": "https://localhost:8080/",
     "height": 272,
     "output_extras": [
      {
       "item_id": 11
      }
     ]
    },
    "colab_type": "code",
    "executionInfo": {
     "elapsed": 12395,
     "status": "ok",
     "timestamp": 1517991559741,
     "user": {
      "displayName": "Paweł Morawiecki",
      "photoUrl": "//lh6.googleusercontent.com/-XRVwUWS-5Ro/AAAAAAAAAAI/AAAAAAAAAyc/xBkFQRPclWw/s50-c-k-no/photo.jpg",
      "userId": "100547019570527921896"
     },
     "user_tz": -60
    },
    "id": "fmgA769kQ-4S",
    "outputId": "c088407c-1dc9-4267-eb94-a5e0fc0bfcf5"
   },
   "outputs": [],
   "source": [
    "!pip install torchvision"
   ]
  },
  {
   "cell_type": "code",
   "execution_count": 1,
   "metadata": {
    "colab": {
     "autoexec": {
      "startup": false,
      "wait_interval": 0
     }
    },
    "colab_type": "code",
    "id": "h8hkenl9REPc"
   },
   "outputs": [
    {
     "name": "stderr",
     "output_type": "stream",
     "text": [
      "/usr/local/lib/python3.6/site-packages/h5py/__init__.py:36: FutureWarning: Conversion of the second argument of issubdtype from `float` to `np.floating` is deprecated. In future, it will be treated as `np.float64 == np.dtype(float).type`.\n",
      "  from ._conv import register_converters as _register_converters\n"
     ]
    }
   ],
   "source": [
    "import torch\n",
    "import torch.nn as nn\n",
    "import torch.nn.functional as F\n",
    "import torch.optim as optim\n",
    "from torch.autograd import Variable\n",
    "from torchvision.datasets import ImageFolder\n",
    "#from torchvision.transforms import Compose, ToPILImage, ToTensor, Resize\n",
    "from torch.utils.data import DataLoader\n",
    "from torchvision.utils import save_image\n",
    "import torchvision\n",
    "import numpy as np\n",
    "import h5py\n",
    "from matplotlib import pyplot as plt\n",
    "plt.ion()   # interactive mode"
   ]
  },
  {
   "cell_type": "code",
   "execution_count": null,
   "metadata": {
    "colab": {
     "autoexec": {
      "startup": false,
      "wait_interval": 0
     },
     "base_uri": "https://localhost:8080/",
     "height": 289,
     "output_extras": [
      {
       "item_id": 37
      }
     ]
    },
    "colab_type": "code",
    "executionInfo": {
     "elapsed": 21158,
     "status": "ok",
     "timestamp": 1517991701786,
     "user": {
      "displayName": "Paweł Morawiecki",
      "photoUrl": "//lh6.googleusercontent.com/-XRVwUWS-5Ro/AAAAAAAAAAI/AAAAAAAAAyc/xBkFQRPclWw/s50-c-k-no/photo.jpg",
      "userId": "100547019570527921896"
     },
     "user_tz": -60
    },
    "id": "vYuUZuiRRbPq",
    "outputId": "93a45d78-1b62-45da-8504-5c7f91036eb6"
   },
   "outputs": [],
   "source": [
    "# downloading file\n",
    "!wget https://www.dropbox.com/s/fo12doky65vhvet/X_4mm.h5?dl=1 -O X_4mm.h5"
   ]
  },
  {
   "cell_type": "code",
   "execution_count": 2,
   "metadata": {
    "colab": {
     "autoexec": {
      "startup": false,
      "wait_interval": 0
     }
    },
    "colab_type": "code",
    "id": "ue9gs1rFRRqg"
   },
   "outputs": [],
   "source": [
    "def load_large_dataset(file_name):\n",
    "    h5f = h5py.File(file_name + '.h5','r')\n",
    "    variable = h5f['variable'][:]\n",
    "    h5f.close()\n",
    "    return variable"
   ]
  },
  {
   "cell_type": "code",
   "execution_count": 3,
   "metadata": {
    "colab": {
     "autoexec": {
      "startup": false,
      "wait_interval": 0
     }
    },
    "colab_type": "code",
    "id": "n6a8mpa6Rdwf"
   },
   "outputs": [],
   "source": [
    "X = load_large_dataset('X_4mm')"
   ]
  },
  {
   "cell_type": "code",
   "execution_count": 4,
   "metadata": {
    "colab": {
     "autoexec": {
      "startup": false,
      "wait_interval": 0
     }
    },
    "colab_type": "code",
    "id": "4-yHLX-3RjJ5"
   },
   "outputs": [],
   "source": [
    "LATENT_DIM = 5 #size of the latent space in the variational autoencoder\n",
    "BATCH_SIZE = 128\n",
    "NUMBER_OF_IMAGES = len(X)"
   ]
  },
  {
   "cell_type": "code",
   "execution_count": 5,
   "metadata": {
    "colab": {
     "autoexec": {
      "startup": false,
      "wait_interval": 0
     }
    },
    "colab_type": "code",
    "id": "RrA_wPqzRshg"
   },
   "outputs": [],
   "source": [
    "class VAE(nn.Module):\n",
    "    \n",
    "    def __init__(self):\n",
    "        super(VAE, self).__init__()\n",
    "        \n",
    "        # layers for encoder\n",
    "        self.conv1 = nn.Conv3d(1, 8, kernel_size=3, padding=1)  \n",
    "        self.conv2 = nn.Conv3d(8, 16, kernel_size=3, padding=1)\n",
    "        self.conv3 = nn.Conv3d(16, 32, kernel_size=3, padding=1)\n",
    "        \n",
    "        self.fc1 = nn.Linear(32*5*6*5, LATENT_DIM)\n",
    "        self.fc2 = nn.Linear(32*5*6*5, LATENT_DIM)\n",
    "        \n",
    "        # layers for decoder\n",
    "        self.fc_decoder = nn.Linear(LATENT_DIM, 32*5*6*5)\n",
    "        \n",
    "        self.conv1_decoder = nn.Conv3d(32, 32, kernel_size=3, padding=1) \n",
    "        self.conv2_decoder = nn.Conv3d(32, 32, kernel_size=3, padding=1)\n",
    "        self.conv3_decoder = nn.Conv3d(32, 32, kernel_size=3, padding=1)\n",
    "        \n",
    "        self.conv4_decoder = nn.Conv3d(32, 1, kernel_size=3, padding=3)\n",
    "        \n",
    "        \n",
    "    def encode(self, x):\n",
    "        x = F.relu(self.conv1(x)) #shape after conv: (8, 44, 53, 44)\n",
    "        x = F.max_pool3d(x, kernel_size=2) #shape after pooling: (8, 22, 26, 22)\n",
    "\n",
    "        x = F.relu(self.conv2(x)) #shape after conv: (16, 22, 26, 22)\n",
    "        x = F.max_pool3d(x, kernel_size=2) #shape after pooling: (16, 11, 13, 11)\n",
    "        \n",
    "        x = F.relu(self.conv3(x)) #shape after conv: (32, 11, 13, 11)\n",
    "        x = F.max_pool3d(x, kernel_size=2) #shape after pooling: (32, 5, 6, 5)\n",
    "\n",
    "        x = x.view(-1, 5*6*5*32)\n",
    "        return self.fc1(x), self.fc2(x)\n",
    "    \n",
    "    \n",
    "    def reparameterize(self, mu, logvar):\n",
    "\n",
    "        std = logvar.mul(0.5).exp_()\n",
    "        eps = Variable(std.data.new(std.size()).normal_())\n",
    "        return eps.mul(std).add_(mu)\n",
    "\n",
    "    \n",
    "    def decode(self, z):\n",
    "        z = F.relu(self.fc_decoder(z))\n",
    "        z = z.view(-1, 32,5,6,5) #reshape to (32, 5, 6, 5)\n",
    "        \n",
    "        z = F.relu(self.conv1_decoder(z)) #shape after conv (32, 5, 6, 5)\n",
    "        z = F.upsample(z, scale_factor=2, mode='nearest') #shape after upsampling (32, 10, 12, 10)\n",
    "        z = F.relu(self.conv2_decoder(z)) #shape after conv (32, 10, 12, 10)\n",
    "        z = F.upsample(z, scale_factor=2, mode='nearest') #shape after upsampling (32, 20, 24, 20)\n",
    "        z = F.relu(self.conv3_decoder(z)) #shape after conv (32,16,16)\n",
    "        z = F.upsample(z, scale_factor=2, mode='nearest') #shape after conv (32, 40, 48, 40)\n",
    "        z = self.conv4_decoder(z) #shape after conv (1, 44, 52, 44)\n",
    "        z = F.pad(z, (0,0,0,1,0,0), \"constant\", -10) #after padding (1, 44, 53, 44) (to match the input size)\n",
    "        return F.sigmoid(z)\n",
    "    \n",
    "    def forward(self, x):\n",
    "        mu, logvar = self.encode(x)\n",
    "        z = self.reparameterize(mu, logvar)\n",
    "        return self.decode(z), mu, logvar    "
   ]
  },
  {
   "cell_type": "code",
   "execution_count": 6,
   "metadata": {
    "colab": {
     "autoexec": {
      "startup": false,
      "wait_interval": 0
     }
    },
    "colab_type": "code",
    "id": "rjZ0wgDJTSZg"
   },
   "outputs": [],
   "source": [
    "def loss_function(reconstruced_x, x, mu, logvar):\n",
    "    BCE = F.binary_cross_entropy(reconstruced_x.view(-1, 44*53*44), x.view(-1, 44*53*44), size_average=False)\n",
    "\n",
    "    # see Appendix B from VAE paper:\n",
    "    # Kingma and Welling. Auto-Encoding Variational Bayes. ICLR, 2014\n",
    "    # https://arxiv.org/abs/1312.6114\n",
    "    # 0.5 * sum(1 + log(sigma^2) - mu^2 - sigma^2)\n",
    "    KLD = -0.5 * torch.sum(1 + logvar - mu.pow(2) - logvar.exp())\n",
    "\n",
    "    return BCE + KLD"
   ]
  },
  {
   "cell_type": "code",
   "execution_count": 7,
   "metadata": {
    "colab": {
     "autoexec": {
      "startup": false,
      "wait_interval": 0
     }
    },
    "colab_type": "code",
    "id": "skZNzGMHSJC2"
   },
   "outputs": [],
   "source": [
    "images = torch.from_numpy(X) #convert to torch tensor\n",
    "images = images.view(NUMBER_OF_IMAGES, 1, 44, 53, 44) #reshape"
   ]
  },
  {
   "cell_type": "code",
   "execution_count": 8,
   "metadata": {
    "colab": {
     "autoexec": {
      "startup": false,
      "wait_interval": 0
     }
    },
    "colab_type": "code",
    "id": "SNI7Z-_VSQeh"
   },
   "outputs": [],
   "source": [
    "train_set = torch.utils.data.TensorDataset(images, torch.zeros(NUMBER_OF_IMAGES))\n",
    "train_loader = DataLoader(train_set, batch_size=128, shuffle=True)"
   ]
  },
  {
   "cell_type": "code",
   "execution_count": 9,
   "metadata": {
    "colab": {
     "autoexec": {
      "startup": false,
      "wait_interval": 0
     },
     "base_uri": "https://localhost:8080/",
     "height": 221,
     "output_extras": [
      {
       "item_id": 1
      }
     ]
    },
    "colab_type": "code",
    "executionInfo": {
     "elapsed": 2595,
     "status": "ok",
     "timestamp": 1517991899815,
     "user": {
      "displayName": "Paweł Morawiecki",
      "photoUrl": "//lh6.googleusercontent.com/-XRVwUWS-5Ro/AAAAAAAAAAI/AAAAAAAAAyc/xBkFQRPclWw/s50-c-k-no/photo.jpg",
      "userId": "100547019570527921896"
     },
     "user_tz": -60
    },
    "id": "DoUrSuNjSxla",
    "outputId": "f7f68869-0092-4850-ec56-b87951ab7f66"
   },
   "outputs": [
    {
     "data": {
      "text/plain": [
       "VAE(\n",
       "  (conv1): Conv3d (1, 8, kernel_size=(3, 3, 3), stride=(1, 1, 1), padding=(1, 1, 1))\n",
       "  (conv2): Conv3d (8, 16, kernel_size=(3, 3, 3), stride=(1, 1, 1), padding=(1, 1, 1))\n",
       "  (conv3): Conv3d (16, 32, kernel_size=(3, 3, 3), stride=(1, 1, 1), padding=(1, 1, 1))\n",
       "  (fc1): Linear(in_features=4800, out_features=5)\n",
       "  (fc2): Linear(in_features=4800, out_features=5)\n",
       "  (fc_decoder): Linear(in_features=5, out_features=4800)\n",
       "  (conv1_decoder): Conv3d (32, 32, kernel_size=(3, 3, 3), stride=(1, 1, 1), padding=(1, 1, 1))\n",
       "  (conv2_decoder): Conv3d (32, 32, kernel_size=(3, 3, 3), stride=(1, 1, 1), padding=(1, 1, 1))\n",
       "  (conv3_decoder): Conv3d (32, 32, kernel_size=(3, 3, 3), stride=(1, 1, 1), padding=(1, 1, 1))\n",
       "  (conv4_decoder): Conv3d (32, 1, kernel_size=(3, 3, 3), stride=(1, 1, 1), padding=(3, 3, 3))\n",
       ")"
      ]
     },
     "execution_count": 9,
     "metadata": {},
     "output_type": "execute_result"
    }
   ],
   "source": [
    "net = VAE()\n",
    "optimizer = optim.Adam(net.parameters())\n",
    "net.cuda()"
   ]
  },
  {
   "cell_type": "code",
   "execution_count": 10,
   "metadata": {
    "colab": {
     "autoexec": {
      "startup": false,
      "wait_interval": 0
     }
    },
    "colab_type": "code",
    "id": "Ij8ONb61j2zb"
   },
   "outputs": [],
   "source": [
    "reconstructed_images = torch.zeros(16,1,44,53)\n",
    "reconstructed_images_2 = torch.zeros(16,1,44,53)"
   ]
  },
  {
   "cell_type": "code",
   "execution_count": null,
   "metadata": {
    "colab": {
     "autoexec": {
      "startup": false,
      "wait_interval": 0
     },
     "base_uri": "https://localhost:8080/",
     "height": 136,
     "output_extras": [
      {
       "item_id": 7
      }
     ]
    },
    "colab_type": "code",
    "id": "B2eVNf_MTK90",
    "outputId": "9b244ed1-a1cd-4bd2-ade0-bfe14d3155d6"
   },
   "outputs": [
    {
     "name": "stdout",
     "output_type": "stream",
     "text": [
      "Epoch 1, loss: 6255062.938\n",
      "Epoch 2, loss: 3789412.725\n",
      "Epoch 3, loss: 3627087.872\n",
      "Epoch 4, loss: 3571872.159\n",
      "Epoch 5, loss: 3546807.372\n",
      "Epoch 6, loss: 3532047.797\n",
      "Epoch 7, loss: 3513694.605\n",
      "Epoch 8, loss: 3494107.048\n",
      "Epoch 9, loss: 3480153.034\n",
      "Epoch 10, loss: 3467739.820\n",
      "Epoch 11, loss: 3456572.482\n",
      "Epoch 12, loss: 3442928.012\n",
      "Epoch 13, loss: 3432728.738\n",
      "Epoch 14, loss: 3421185.347\n",
      "Epoch 15, loss: 3453663.818\n",
      "Epoch 16, loss: 3412676.471\n",
      "Epoch 17, loss: 3395376.723\n",
      "Epoch 18, loss: 3382849.076\n",
      "Epoch 19, loss: 3371738.834\n",
      "Epoch 20, loss: 3353009.223\n",
      "Epoch 21, loss: 3302558.716\n",
      "Epoch 23, loss: 3277186.309\n",
      "Epoch 24, loss: 3236284.390\n",
      "Epoch 25, loss: 3210899.798\n",
      "Epoch 26, loss: 3194574.375\n",
      "Epoch 27, loss: 3191211.208\n",
      "Epoch 28, loss: 3179589.155\n",
      "Epoch 29, loss: 3157535.682\n",
      "Epoch 30, loss: 3145463.943\n",
      "Epoch 31, loss: 3143611.244\n",
      "Epoch 32, loss: 3124265.241\n",
      "Epoch 33, loss: 3113204.571\n",
      "Epoch 34, loss: 3107534.066\n",
      "Epoch 35, loss: 3093286.302\n",
      "Epoch 36, loss: 3084037.092\n",
      "Epoch 37, loss: 3075999.073\n",
      "Epoch 38, loss: 3068429.614\n",
      "Epoch 39, loss: 3067226.487\n",
      "Epoch 40, loss: 3049746.153\n",
      "Epoch 41, loss: 3036621.373\n",
      "Epoch 42, loss: 3026673.307\n",
      "Epoch 43, loss: 3017781.848\n",
      "Epoch 44, loss: 3009649.808\n",
      "Epoch 61, loss: 2879734.637\n",
      "Epoch 62, loss: 2873784.258\n",
      "Epoch 63, loss: 2868021.710\n",
      "Epoch 64, loss: 2868942.156\n",
      "Epoch 65, loss: 2857807.053\n",
      "Epoch 66, loss: 2847220.321\n",
      "Epoch 67, loss: 2841464.983\n",
      "Epoch 68, loss: 2835750.225\n",
      "Epoch 69, loss: 2831749.954\n",
      "Epoch 70, loss: 2825527.883\n",
      "Epoch 71, loss: 2818080.994\n",
      "Epoch 72, loss: 2811198.913\n",
      "Epoch 73, loss: 2804589.847\n",
      "Epoch 74, loss: 2800870.280\n",
      "Epoch 75, loss: 2805018.234\n",
      "Epoch 76, loss: 2796183.392\n",
      "Epoch 77, loss: 2787626.945\n",
      "Epoch 78, loss: 2785369.621\n",
      "Epoch 79, loss: 2774326.121\n",
      "Epoch 80, loss: 2767393.854\n",
      "Epoch 81, loss: 2762153.552\n",
      "Epoch 82, loss: 2757296.181\n",
      "Epoch 83, loss: 2752316.282\n",
      "Epoch 84, loss: 2747722.040\n",
      "Epoch 85, loss: 2744218.173\n",
      "Epoch 86, loss: 2737677.882\n",
      "Epoch 87, loss: 2732469.521\n",
      "Epoch 88, loss: 2727766.002\n",
      "Epoch 89, loss: 2724426.754\n",
      "Epoch 90, loss: 2720847.044\n",
      "Epoch 91, loss: 2713894.771\n",
      "Epoch 92, loss: 2709337.068\n",
      "Epoch 93, loss: 2705101.930\n",
      "Epoch 94, loss: 2709876.613\n",
      "Epoch 95, loss: 2699764.571\n",
      "Epoch 96, loss: 2694717.589\n",
      "Epoch 97, loss: 2690239.346\n",
      "Epoch 98, loss: 2691175.926\n",
      "Epoch 99, loss: 2681721.489\n",
      "Epoch 100, loss: 2675140.146\n",
      "Epoch 101, loss: 2671888.947\n",
      "Epoch 102, loss: 2667063.249\n",
      "Epoch 103, loss: 2663718.343\n",
      "Epoch 104, loss: 2659905.518\n",
      "Epoch 105, loss: 2660733.535\n",
      "Epoch 107, loss: 2656174.892\n",
      "Epoch 108, loss: 2655661.203\n",
      "Epoch 109, loss: 2650444.051\n",
      "Epoch 110, loss: 2639441.927\n",
      "Epoch 111, loss: 2635242.495\n",
      "Epoch 112, loss: 2630780.579\n",
      "Epoch 113, loss: 2627148.429\n",
      "Epoch 114, loss: 2623740.252\n",
      "Epoch 115, loss: 2620655.580\n",
      "Epoch 116, loss: 2617275.025\n",
      "Epoch 119, loss: 2608613.687\n",
      "Epoch 120, loss: 2605646.601\n",
      "Epoch 121, loss: 2603980.307\n",
      "Epoch 122, loss: 2600954.532\n",
      "Epoch 123, loss: 2601422.562\n",
      "Epoch 124, loss: 2592401.555\n",
      "Epoch 125, loss: 2588640.403\n",
      "Epoch 126, loss: 2586685.772\n",
      "Epoch 127, loss: 2584259.481\n",
      "Epoch 128, loss: 2583925.617\n",
      "Epoch 129, loss: 2578123.575\n",
      "Epoch 130, loss: 2576100.076\n",
      "Epoch 131, loss: 2573372.213\n",
      "Epoch 132, loss: 2573381.143\n",
      "Epoch 133, loss: 2567889.013\n",
      "Epoch 134, loss: 2567373.381\n",
      "Epoch 135, loss: 2584260.051\n",
      "Epoch 136, loss: 2571187.547\n",
      "Epoch 137, loss: 2559568.420\n",
      "Epoch 138, loss: 2553994.866\n",
      "Epoch 139, loss: 2550747.298\n",
      "Epoch 140, loss: 2548475.300\n",
      "Epoch 141, loss: 2545784.192\n",
      "Epoch 143, loss: 2543293.813\n",
      "Epoch 144, loss: 2538675.848\n",
      "Epoch 145, loss: 2538234.931\n",
      "Epoch 146, loss: 2537362.986\n",
      "Epoch 147, loss: 2533385.428\n",
      "Epoch 148, loss: 2528793.828\n",
      "Epoch 149, loss: 2526942.631\n",
      "Epoch 150, loss: 2524238.924\n",
      "Epoch 151, loss: 2521898.220\n",
      "Finished Training\n"
     ]
    }
   ],
   "source": [
    "for epoch in range(151):  # loop over the dataset multiple times\n",
    "    \n",
    "    running_loss = 0.0\n",
    "    for i, data in enumerate(train_loader):\n",
    "        # get the inputs\n",
    "        inputs, labels = data\n",
    "        \n",
    "        # wrap them in Variable\n",
    "        inputs, labels = Variable(inputs.cuda()), Variable(labels.cuda())\n",
    "\n",
    "        # zero the parameter gradients\n",
    "        optimizer.zero_grad()\n",
    "\n",
    "        # forward + backward + optimize\n",
    "        reconstructed_batch, mu, logvar = net(inputs)\n",
    "        \n",
    "        outputs = net(inputs)\n",
    "        loss = loss_function(reconstructed_batch, inputs, mu, logvar)\n",
    "        loss.backward()\n",
    "        optimizer.step()\n",
    "        running_loss += loss.data[0]*inputs.size(0)\n",
    "\n",
    "    print('Epoch %d, loss: %.3f' % (epoch + 1, running_loss / NUMBER_OF_IMAGES))\n",
    "    \n",
    "    if (epoch%10==0): #saving examples of reconstructed images every 10 epochs\n",
    "      output = net(Variable(train_loader.dataset[0][0].unsqueeze(0).cuda()))\n",
    "      output = output[0].data.view(1,44,53,44).cpu()\n",
    "      reconstructed_images[int(epoch/10)] = output[0,:,:,28] #slice number 28\n",
    "      reconstructed_images_2[int(epoch/10)] = output[0,:,:,10] #slice number 10\n",
    "    \n",
    "    \n",
    "print('Finished Training')"
   ]
  },
  {
   "cell_type": "markdown",
   "metadata": {
    "colab_type": "text",
    "id": "Evwol0TZI4M3"
   },
   "source": [
    "Let's see how the quality of reconstructed images improve over training time. The original image looks like this:"
   ]
  },
  {
   "cell_type": "code",
   "execution_count": 12,
   "metadata": {
    "colab": {
     "autoexec": {
      "startup": false,
      "wait_interval": 0
     },
     "base_uri": "https://localhost:8080/",
     "height": 181,
     "output_extras": [
      {
       "item_id": 1
      }
     ]
    },
    "colab_type": "code",
    "executionInfo": {
     "elapsed": 504,
     "status": "error",
     "timestamp": 1517954826899,
     "user": {
      "displayName": "Paweł Morawiecki",
      "photoUrl": "//lh6.googleusercontent.com/-XRVwUWS-5Ro/AAAAAAAAAAI/AAAAAAAAAyc/xBkFQRPclWw/s50-c-k-no/photo.jpg",
      "userId": "100547019570527921896"
     },
     "user_tz": -60
    },
    "id": "Xw7xCsefJgvx",
    "outputId": "f5e671b3-4a6f-4583-b04e-dd54b1c259bb"
   },
   "outputs": [
    {
     "data": {
      "text/plain": [
       "<matplotlib.image.AxesImage at 0x7f79b409d5c0>"
      ]
     },
     "execution_count": 12,
     "metadata": {},
     "output_type": "execute_result"
    },
    {
     "data": {
      "image/png": "[encoded data removed]",
      "text/plain": [
       "<matplotlib.figure.Figure at 0x7f79b4146d68>"
      ]
     },
     "metadata": {},
     "output_type": "display_data"
    }
   ],
   "source": [
    "fig = plt.figure(figsize=(4,4))\n",
    "my_slice = images[0,0,:,:,28]\n",
    "plt.imshow(my_slice, cmap=\"Greys\")"
   ]
  },
  {
   "cell_type": "markdown",
   "metadata": {
    "colab_type": "text",
    "id": "1oVh5mS9JzeG"
   },
   "source": [
    "and below we show reconstructions of the above slice every 10 epochs"
   ]
  },
  {
   "cell_type": "code",
   "execution_count": 13,
   "metadata": {
    "colab": {
     "autoexec": {
      "startup": false,
      "wait_interval": 0
     }
    },
    "colab_type": "code",
    "id": "F7RB6EYHteie"
   },
   "outputs": [],
   "source": [
    "grid_1 = torchvision.utils.make_grid(reconstructed_images, nrow=5)\n",
    "grid_2 = torchvision.utils.make_grid(reconstructed_images_2, nrow=5)\n",
    "grid_1 = grid_1[0,:,:]\n",
    "grid_2 = grid_2[0,:,:]"
   ]
  },
  {
   "cell_type": "code",
   "execution_count": 14,
   "metadata": {
    "colab": {
     "autoexec": {
      "startup": false,
      "wait_interval": 0
     },
     "base_uri": "https://localhost:8080/",
     "height": 687,
     "output_extras": [
      {
       "item_id": 1
      },
      {
       "item_id": 2
      }
     ]
    },
    "colab_type": "code",
    "executionInfo": {
     "elapsed": 1119,
     "status": "ok",
     "timestamp": 1517924994442,
     "user": {
      "displayName": "Paweł Morawiecki",
      "photoUrl": "//lh6.googleusercontent.com/-XRVwUWS-5Ro/AAAAAAAAAAI/AAAAAAAAAyc/xBkFQRPclWw/s50-c-k-no/photo.jpg",
      "userId": "100547019570527921896"
     },
     "user_tz": -60
    },
    "id": "p5oo5TSQ-09E",
    "outputId": "bc46203d-9975-42a7-b8ce-ebff349acc55"
   },
   "outputs": [
    {
     "data": {
      "text/plain": [
       "<matplotlib.image.AxesImage at 0x7f794e79e4e0>"
      ]
     },
     "execution_count": 14,
     "metadata": {},
     "output_type": "execute_result"
    },
    {
     "data": {
      "image/png": "[encoded data removed]",
      "text/plain": [
       "<matplotlib.figure.Figure at 0x7f79b404c6a0>"
      ]
     },
     "metadata": {},
     "output_type": "display_data"
    }
   ],
   "source": [
    "plt.rcParams['grid.linewidth'] = 0.0\n",
    "fig = plt.figure(figsize=(22,22))\n",
    "plt.imshow(grid_1, cmap=\"Greys\")"
   ]
  },
  {
   "cell_type": "markdown",
   "metadata": {
    "colab_type": "text",
    "id": "j_STWSiHTol7"
   },
   "source": [
    "Let's check another slice"
   ]
  },
  {
   "cell_type": "code",
   "execution_count": 15,
   "metadata": {
    "colab": {
     "autoexec": {
      "startup": false,
      "wait_interval": 0
     },
     "base_uri": "https://localhost:8080/",
     "height": 284,
     "output_extras": [
      {
       "item_id": 1
      },
      {
       "item_id": 2
      }
     ]
    },
    "colab_type": "code",
    "executionInfo": {
     "elapsed": 602,
     "status": "ok",
     "timestamp": 1517923790682,
     "user": {
      "displayName": "Paweł Morawiecki",
      "photoUrl": "//lh6.googleusercontent.com/-XRVwUWS-5Ro/AAAAAAAAAAI/AAAAAAAAAyc/xBkFQRPclWw/s50-c-k-no/photo.jpg",
      "userId": "100547019570527921896"
     },
     "user_tz": -60
    },
    "id": "EwcglxLFTs0-",
    "outputId": "0a25e957-d219-4373-d66c-6a344ea8ff50"
   },
   "outputs": [
    {
     "data": {
      "text/plain": [
       "<matplotlib.image.AxesImage at 0x7f794d9cc4e0>"
      ]
     },
     "execution_count": 15,
     "metadata": {},
     "output_type": "execute_result"
    },
    {
     "data": {
      "image/png": "[encoded data removed]",
      "text/plain": [
       "<matplotlib.figure.Figure at 0x7f7978d7d160>"
      ]
     },
     "metadata": {},
     "output_type": "display_data"
    }
   ],
   "source": [
    "fig = plt.figure(figsize=(4,4))\n",
    "my_slice = images[0,0,:,:,10]\n",
    "plt.imshow(my_slice, cmap=\"Greys\")"
   ]
  },
  {
   "cell_type": "code",
   "execution_count": 16,
   "metadata": {
    "colab": {
     "autoexec": {
      "startup": false,
      "wait_interval": 0
     },
     "base_uri": "https://localhost:8080/",
     "height": 631,
     "output_extras": [
      {
       "item_id": 1
      },
      {
       "item_id": 2
      }
     ]
    },
    "colab_type": "code",
    "executionInfo": {
     "elapsed": 699,
     "status": "ok",
     "timestamp": 1517925010718,
     "user": {
      "displayName": "Paweł Morawiecki",
      "photoUrl": "//lh6.googleusercontent.com/-XRVwUWS-5Ro/AAAAAAAAAAI/AAAAAAAAAyc/xBkFQRPclWw/s50-c-k-no/photo.jpg",
      "userId": "100547019570527921896"
     },
     "user_tz": -60
    },
    "id": "NBllv3Rj_orz",
    "outputId": "578153d1-4a16-4b00-d30c-31a1a6e8d22c"
   },
   "outputs": [
    {
     "data": {
      "text/plain": [
       "<matplotlib.image.AxesImage at 0x7f79303191d0>"
      ]
     },
     "execution_count": 16,
     "metadata": {},
     "output_type": "execute_result"
    },
    {
     "data": {
      "image/png": "[encoded data removed]",
      "text/plain": [
       "<matplotlib.figure.Figure at 0x7f7978dd1080>"
      ]
     },
     "metadata": {},
     "output_type": "display_data"
    }
   ],
   "source": [
    "fig = plt.figure(figsize=(20,20))\n",
    "plt.imshow(grid_2, cmap=\"Greys\")"
   ]
  },
  {
   "cell_type": "markdown",
   "metadata": {
    "colab": {
     "autoexec": {
      "startup": false,
      "wait_interval": 0
     }
    },
    "colab_type": "code",
    "id": "_Cqv72XLYYoT"
   },
   "source": [
    "After 70-80 basically the reconstructed images look the same. However, the loss function still goes down (presumably latent space is getting better 'organized')"
   ]
  }
 ],
 "metadata": {
  "accelerator": "GPU",
  "colab": {
   "collapsed_sections": [],
   "default_view": {},
   "name": "VAE_ABIDE_1.ipynb",
   "provenance": [],
   "version": "0.3.2",
   "views": {}
  },
  "kernelspec": {
   "display_name": "Python 3",
   "language": "python",
   "name": "python3"
  },
  "language_info": {
   "codemirror_mode": {
    "name": "ipython",
    "version": 3
   },
   "file_extension": ".py",
   "mimetype": "text/x-python",
   "name": "python",
   "nbconvert_exporter": "python",
   "pygments_lexer": "ipython3",
   "version": "3.6.2"
  }
 },
 "nbformat": 4,
 "nbformat_minor": 1
}
