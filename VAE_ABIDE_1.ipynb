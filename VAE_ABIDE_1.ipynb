{
 "cells": [
  {
   "cell_type": "code",
   "execution_count": 2,
   "metadata": {
    "colab": {
     "autoexec": {
      "startup": false,
      "wait_interval": 0
     }
    },
    "colab_type": "code",
    "collapsed": false,
    "id": "h8hkenl9REPc"
   },
   "outputs": [
    {
     "name": "stderr",
     "output_type": "stream",
     "text": [
      "/usr/local/lib/python3.6/site-packages/h5py/__init__.py:36: FutureWarning: Conversion of the second argument of issubdtype from `float` to `np.floating` is deprecated. In future, it will be treated as `np.float64 == np.dtype(float).type`.\n",
      "  from ._conv import register_converters as _register_converters\n"
     ]
    }
   ],
   "source": [
    "import torch\n",
    "import torch.nn as nn\n",
    "import torch.nn.functional as F\n",
    "import torch.optim as optim\n",
    "from torch.autograd import Variable\n",
    "from torchvision.datasets import ImageFolder\n",
    "#from torchvision.transforms import Compose, ToPILImage, ToTensor, Resize\n",
    "from torch.utils.data import DataLoader\n",
    "from torchvision.utils import save_image\n",
    "import torchvision\n",
    "import numpy as np\n",
    "import h5py\n",
    "from matplotlib import pyplot as plt\n",
    "plt.ion()   # interactive mode"
   ]
  },
  {
   "cell_type": "code",
   "execution_count": 3,
   "metadata": {
    "colab": {
     "autoexec": {
      "startup": false,
      "wait_interval": 0
     },
     "base_uri": "https://localhost:8080/",
     "height": 289,
     "output_extras": [
      {
       "item_id": 37
      }
     ]
    },
    "colab_type": "code",
    "collapsed": false,
    "executionInfo": {
     "elapsed": 21158,
     "status": "ok",
     "timestamp": 1517991701786,
     "user": {
      "displayName": "Paweł Morawiecki",
      "photoUrl": "//lh6.googleusercontent.com/-XRVwUWS-5Ro/AAAAAAAAAAI/AAAAAAAAAyc/xBkFQRPclWw/s50-c-k-no/photo.jpg",
      "userId": "100547019570527921896"
     },
     "user_tz": -60
    },
    "id": "vYuUZuiRRbPq",
    "outputId": "93a45d78-1b62-45da-8504-5c7f91036eb6"
   },
   "outputs": [
    {
     "name": "stdout",
     "output_type": "stream",
     "text": [
      "--2018-02-07 11:00:08--  https://www.dropbox.com/s/fo12doky65vhvet/X_4mm.h5?dl=1\n",
      "Resolving www.dropbox.com (www.dropbox.com)... 162.125.1.1, 2620:100:6016:1::a27d:101\n",
      "Connecting to www.dropbox.com (www.dropbox.com)|162.125.1.1|:443... connected.\n",
      "HTTP request sent, awaiting response... 302 Found\n",
      "Location: https://dl.dropboxusercontent.com/content_link/x9tUKnmsdwpsjYE3j6Hz5VujjM0ArA9rp1XYTt4XE6T98G7DyyoyCRCpDX5wNpWo/file?dl=1 [following]\n",
      "--2018-02-07 11:00:08--  https://dl.dropboxusercontent.com/content_link/x9tUKnmsdwpsjYE3j6Hz5VujjM0ArA9rp1XYTt4XE6T98G7DyyoyCRCpDX5wNpWo/file?dl=1\n",
      "Resolving dl.dropboxusercontent.com (dl.dropboxusercontent.com)... 162.125.1.6, 2620:100:6016:6::a27d:106\n",
      "Connecting to dl.dropboxusercontent.com (dl.dropboxusercontent.com)|162.125.1.6|:443... connected.\n",
      "HTTP request sent, awaiting response... 200 OK\n",
      "Length: 913623776 (871M) [application/binary]\n",
      "Saving to: ‘X_4mm.h5’\n",
      "\n",
      "X_4mm.h5            100%[===================>] 871.30M  58.0MB/s    in 16s     \n",
      "\n",
      "2018-02-07 11:00:26 (53.7 MB/s) - ‘X_4mm.h5’ saved [913623776/913623776]\n",
      "\n"
     ]
    }
   ],
   "source": [
    "# downloading ABIDE 1 dataset, 4mmm resolution\n",
    "!wget https://www.dropbox.com/s/fo12doky65vhvet/X_4mm.h5?dl=1 -O X_4mm.h5"
   ]
  },
  {
   "cell_type": "code",
   "execution_count": 4,
   "metadata": {
    "colab": {
     "autoexec": {
      "startup": false,
      "wait_interval": 0
     }
    },
    "colab_type": "code",
    "collapsed": true,
    "id": "ue9gs1rFRRqg"
   },
   "outputs": [],
   "source": [
    "def load_large_dataset(file_name):\n",
    "    h5f = h5py.File(file_name + '.h5','r')\n",
    "    variable = h5f['variable'][:]\n",
    "    h5f.close()\n",
    "    return variable"
   ]
  },
  {
   "cell_type": "code",
   "execution_count": 5,
   "metadata": {
    "colab": {
     "autoexec": {
      "startup": false,
      "wait_interval": 0
     }
    },
    "colab_type": "code",
    "collapsed": true,
    "id": "n6a8mpa6Rdwf"
   },
   "outputs": [],
   "source": [
    "X = load_large_dataset('X_4mm')"
   ]
  },
  {
   "cell_type": "code",
   "execution_count": 6,
   "metadata": {
    "colab": {
     "autoexec": {
      "startup": false,
      "wait_interval": 0
     }
    },
    "colab_type": "code",
    "collapsed": true,
    "id": "4-yHLX-3RjJ5"
   },
   "outputs": [],
   "source": [
    "LATENT_DIM = 5 #size of the latent space in the variational autoencoder\n",
    "BATCH_SIZE = 128\n",
    "NUMBER_OF_IMAGES = len(X)"
   ]
  },
  {
   "cell_type": "code",
   "execution_count": 7,
   "metadata": {
    "colab": {
     "autoexec": {
      "startup": false,
      "wait_interval": 0
     }
    },
    "colab_type": "code",
    "collapsed": true,
    "id": "RrA_wPqzRshg"
   },
   "outputs": [],
   "source": [
    "class VAE(nn.Module):\n",
    "    \n",
    "    def __init__(self):\n",
    "        super(VAE, self).__init__()\n",
    "        \n",
    "        # layers for encoder\n",
    "        self.conv1 = nn.Conv3d(1, 8, kernel_size=3, padding=1)  \n",
    "        self.conv2 = nn.Conv3d(8, 16, kernel_size=3, padding=1)\n",
    "        self.conv3 = nn.Conv3d(16, 32, kernel_size=3, padding=1)\n",
    "        \n",
    "        self.fc1 = nn.Linear(32*5*6*5, LATENT_DIM)\n",
    "        self.fc2 = nn.Linear(32*5*6*5, LATENT_DIM)\n",
    "        \n",
    "        #self.conv2_bn = nn.BatchNorm2d(32)\n",
    "        \n",
    "        # layers for decoder\n",
    "        self.fc_decoder = nn.Linear(LATENT_DIM, 32*5*6*5)\n",
    "        \n",
    "        self.conv1_decoder = nn.Conv3d(32, 32, kernel_size=3, padding=1) \n",
    "        self.conv2_decoder = nn.Conv3d(32, 32, kernel_size=3, padding=1)\n",
    "        self.conv3_decoder = nn.Conv3d(32, 32, kernel_size=3, padding=1)\n",
    "        \n",
    "        self.conv4_decoder = nn.Conv3d(32, 1, kernel_size=3, padding=3)\n",
    "        \n",
    "        \n",
    "    def encode(self, x):\n",
    "        x = F.relu(self.conv1(x)) #shape after conv: (8, 44, 53, 44)\n",
    "        x = F.max_pool3d(x, kernel_size=2) #shape after pooling: (8, 22, 26, 22)\n",
    "\n",
    "        x = F.relu(self.conv2(x)) #shape after conv: (16, 22, 26, 22)\n",
    "        x = F.max_pool3d(x, kernel_size=2) #shape after pooling: (16, 11, 13, 11)\n",
    "        \n",
    "        x = F.relu(self.conv3(x)) #shape after conv: (32, 11, 13, 11)\n",
    "        x = F.max_pool3d(x, kernel_size=2) #shape after pooling: (32, 5, 6, 5)\n",
    "\n",
    "        x = x.view(-1, 5*6*5*32)\n",
    "        return self.fc1(x), self.fc2(x)\n",
    "    \n",
    "    \n",
    "    def reparameterize(self, mu, logvar):\n",
    "\n",
    "        std = logvar.mul(0.5).exp_()\n",
    "        eps = Variable(std.data.new(std.size()).normal_())\n",
    "        return eps.mul(std).add_(mu)\n",
    "\n",
    "    \n",
    "    def decode(self, z):\n",
    "        z = F.relu(self.fc_decoder(z))\n",
    "        z = z.view(-1, 32,5,6,5) #reshape to (32, 5, 6, 5)\n",
    "        \n",
    "        z = F.relu(self.conv1_decoder(z)) #shape after conv (32, 5, 6, 5)\n",
    "        z = F.upsample(z, scale_factor=2, mode='nearest') #shape after upsampling (32, 10, 12, 10)\n",
    "        z = F.relu(self.conv2_decoder(z)) #shape after conv (32, 10, 12, 10)\n",
    "        z = F.upsample(z, scale_factor=2, mode='nearest') #shape after upsampling (32, 20, 24, 20)\n",
    "        z = F.relu(self.conv3_decoder(z)) #shape after conv (32,16,16)\n",
    "        z = F.upsample(z, scale_factor=2, mode='nearest') #shape after conv (32, 40, 48, 40)\n",
    "        z = self.conv4_decoder(z) #shape after conv (1, 44, 52, 44)\n",
    "        z = F.pad(z, (0,0,0,1,0,0), \"constant\", -10) #after padding (1, 44, 53, 44) (to match the input size)\n",
    "        return F.sigmoid(z)\n",
    "    \n",
    "    def forward(self, x):\n",
    "        mu, logvar = self.encode(x)\n",
    "        z = self.reparameterize(mu, logvar)\n",
    "        return self.decode(z), mu, logvar    "
   ]
  },
  {
   "cell_type": "code",
   "execution_count": 8,
   "metadata": {
    "colab": {
     "autoexec": {
      "startup": false,
      "wait_interval": 0
     }
    },
    "colab_type": "code",
    "collapsed": true,
    "id": "rjZ0wgDJTSZg"
   },
   "outputs": [],
   "source": [
    "def loss_function(reconstruced_x, x, mu, logvar):\n",
    "    BCE = F.binary_cross_entropy(reconstruced_x.view(-1, 44*53*44), x.view(-1, 44*53*44))\n",
    "\n",
    "    # see Appendix B from VAE paper:\n",
    "    # Kingma and Welling. Auto-Encoding Variational Bayes. ICLR, 2014\n",
    "    # https://arxiv.org/abs/1312.6114\n",
    "    # 0.5 * sum(1 + log(sigma^2) - mu^2 - sigma^2)\n",
    "    KLD = -0.5 * torch.sum(1 + logvar - mu.pow(2) - logvar.exp())\n",
    "    # Normalise by same number of elements as in reconstruction\n",
    "    KLD /= BATCH_SIZE * (44*53*44) #batch_size=128\n",
    "\n",
    "    return BCE + KLD"
   ]
  },
  {
   "cell_type": "code",
   "execution_count": 9,
   "metadata": {
    "colab": {
     "autoexec": {
      "startup": false,
      "wait_interval": 0
     }
    },
    "colab_type": "code",
    "collapsed": true,
    "id": "skZNzGMHSJC2"
   },
   "outputs": [],
   "source": [
    "images = torch.from_numpy(X) #convert to torch tensor\n",
    "images = images.view(NUMBER_OF_IMAGES, 1, 44, 53, 44) #reshape"
   ]
  },
  {
   "cell_type": "code",
   "execution_count": 10,
   "metadata": {
    "colab": {
     "autoexec": {
      "startup": false,
      "wait_interval": 0
     }
    },
    "colab_type": "code",
    "collapsed": true,
    "id": "SNI7Z-_VSQeh"
   },
   "outputs": [],
   "source": [
    "train_set = torch.utils.data.TensorDataset(images, torch.zeros(NUMBER_OF_IMAGES))\n",
    "train_loader = DataLoader(train_set, batch_size=128, shuffle=True)"
   ]
  },
  {
   "cell_type": "code",
   "execution_count": 11,
   "metadata": {
    "colab": {
     "autoexec": {
      "startup": false,
      "wait_interval": 0
     },
     "base_uri": "https://localhost:8080/",
     "height": 221,
     "output_extras": [
      {
       "item_id": 1
      }
     ]
    },
    "colab_type": "code",
    "collapsed": false,
    "executionInfo": {
     "elapsed": 2595,
     "status": "ok",
     "timestamp": 1517991899815,
     "user": {
      "displayName": "Paweł Morawiecki",
      "photoUrl": "//lh6.googleusercontent.com/-XRVwUWS-5Ro/AAAAAAAAAAI/AAAAAAAAAyc/xBkFQRPclWw/s50-c-k-no/photo.jpg",
      "userId": "100547019570527921896"
     },
     "user_tz": -60
    },
    "id": "DoUrSuNjSxla",
    "outputId": "f7f68869-0092-4850-ec56-b87951ab7f66"
   },
   "outputs": [
    {
     "data": {
      "text/plain": [
       "VAE(\n",
       "  (conv1): Conv3d (1, 8, kernel_size=(3, 3, 3), stride=(1, 1, 1), padding=(1, 1, 1))\n",
       "  (conv2): Conv3d (8, 16, kernel_size=(3, 3, 3), stride=(1, 1, 1), padding=(1, 1, 1))\n",
       "  (conv3): Conv3d (16, 32, kernel_size=(3, 3, 3), stride=(1, 1, 1), padding=(1, 1, 1))\n",
       "  (fc1): Linear(in_features=4800, out_features=5)\n",
       "  (fc2): Linear(in_features=4800, out_features=5)\n",
       "  (fc_decoder): Linear(in_features=5, out_features=4800)\n",
       "  (conv1_decoder): Conv3d (32, 32, kernel_size=(3, 3, 3), stride=(1, 1, 1), padding=(1, 1, 1))\n",
       "  (conv2_decoder): Conv3d (32, 32, kernel_size=(3, 3, 3), stride=(1, 1, 1), padding=(1, 1, 1))\n",
       "  (conv3_decoder): Conv3d (32, 32, kernel_size=(3, 3, 3), stride=(1, 1, 1), padding=(1, 1, 1))\n",
       "  (conv4_decoder): Conv3d (32, 1, kernel_size=(3, 3, 3), stride=(1, 1, 1), padding=(3, 3, 3))\n",
       ")"
      ]
     },
     "execution_count": 11,
     "metadata": {},
     "output_type": "execute_result"
    }
   ],
   "source": [
    "net = VAE()\n",
    "optimizer = optim.Adam(net.parameters())\n",
    "net.cuda()"
   ]
  },
  {
   "cell_type": "code",
   "execution_count": 12,
   "metadata": {
    "colab": {
     "autoexec": {
      "startup": false,
      "wait_interval": 0
     }
    },
    "colab_type": "code",
    "collapsed": true,
    "id": "Ij8ONb61j2zb"
   },
   "outputs": [],
   "source": [
    "reconstructed_images = torch.zeros(15,1,44,53)\n",
    "reconstructed_images_2 = torch.zeros(15,1,44,53)"
   ]
  },
  {
   "cell_type": "code",
   "execution_count": null,
   "metadata": {
    "colab": {
     "autoexec": {
      "startup": false,
      "wait_interval": 0
     },
     "base_uri": "https://localhost:8080/",
     "height": 136,
     "output_extras": [
      {
       "item_id": 7
      }
     ]
    },
    "colab_type": "code",
    "collapsed": false,
    "id": "B2eVNf_MTK90",
    "outputId": "9b244ed1-a1cd-4bd2-ade0-bfe14d3155d6"
   },
   "outputs": [
    {
     "name": "stdout",
     "output_type": "stream",
     "text": [
      "Epoch 1, loss: 0.618\n",
      "Epoch 2, loss: 0.424\n",
      "Epoch 3, loss: 0.314\n",
      "Epoch 4, loss: 0.296\n",
      "Epoch 5, loss: 0.287\n",
      "Epoch 6, loss: 0.280\n",
      "Epoch 7, loss: 0.277\n",
      "Epoch 8, loss: 0.274\n",
      "Epoch 9, loss: 0.272\n",
      "Epoch 10, loss: 0.271\n",
      "Epoch 11, loss: 0.269\n",
      "Epoch 12, loss: 0.267\n",
      "Epoch 13, loss: 0.263\n",
      "Epoch 14, loss: 0.261\n",
      "Epoch 15, loss: 0.261\n",
      "Epoch 16, loss: 0.260\n",
      "Epoch 17, loss: 0.258\n",
      "Epoch 18, loss: 0.257\n",
      "Epoch 19, loss: 0.256\n",
      "Epoch 20, loss: 0.256\n",
      "Epoch 21, loss: 0.255\n",
      "Epoch 22, loss: 0.254\n",
      "Epoch 23, loss: 0.253\n",
      "Epoch 24, loss: 0.252\n",
      "Epoch 25, loss: 0.251\n",
      "Epoch 26, loss: 0.251\n",
      "Epoch 27, loss: 0.250\n",
      "Epoch 28, loss: 0.249\n",
      "Epoch 29, loss: 0.248\n",
      "Epoch 30, loss: 0.247\n",
      "Epoch 31, loss: 0.247\n",
      "Epoch 32, loss: 0.246\n",
      "Epoch 33, loss: 0.245\n",
      "Epoch 34, loss: 0.245\n",
      "Epoch 35, loss: 0.244\n",
      "Epoch 36, loss: 0.243\n",
      "Epoch 37, loss: 0.242\n",
      "Epoch 38, loss: 0.242\n",
      "Epoch 39, loss: 0.241\n",
      "Epoch 41, loss: 0.240\n",
      "Epoch 42, loss: 0.239\n",
      "Epoch 43, loss: 0.238\n",
      "Epoch 44, loss: 0.237\n",
      "Epoch 45, loss: 0.237\n",
      "Epoch 46, loss: 0.236\n",
      "Epoch 47, loss: 0.236\n",
      "Epoch 48, loss: 0.235\n",
      "Epoch 49, loss: 0.234\n",
      "Epoch 50, loss: 0.234\n",
      "Epoch 51, loss: 0.234\n",
      "Epoch 52, loss: 0.233\n",
      "Epoch 53, loss: 0.232\n",
      "Epoch 54, loss: 0.231\n",
      "Epoch 55, loss: 0.231\n",
      "Epoch 56, loss: 0.230\n",
      "Epoch 57, loss: 0.230\n",
      "Epoch 58, loss: 0.229\n",
      "Epoch 59, loss: 0.229\n",
      "Epoch 60, loss: 0.228\n",
      "Epoch 61, loss: 0.227\n",
      "Epoch 62, loss: 0.227\n",
      "Epoch 63, loss: 0.226\n",
      "Epoch 65, loss: 0.225\n",
      "Epoch 66, loss: 0.225\n",
      "Epoch 67, loss: 0.224\n",
      "Epoch 68, loss: 0.224\n",
      "Epoch 69, loss: 0.223\n",
      "Epoch 70, loss: 0.223\n",
      "Epoch 71, loss: 0.222\n",
      "Epoch 72, loss: 0.222\n",
      "Epoch 73, loss: 0.221\n",
      "Epoch 74, loss: 0.221\n",
      "Epoch 75, loss: 0.221\n",
      "Epoch 76, loss: 0.220\n",
      "Epoch 77, loss: 0.219\n",
      "Epoch 78, loss: 0.219\n",
      "Epoch 79, loss: 0.219\n",
      "Epoch 80, loss: 0.218\n",
      "Epoch 81, loss: 0.218\n",
      "Epoch 82, loss: 0.217\n",
      "Epoch 83, loss: 0.217\n",
      "Epoch 84, loss: 0.216\n",
      "Epoch 85, loss: 0.216\n",
      "Epoch 86, loss: 0.216\n",
      "Epoch 87, loss: 0.215\n",
      "Epoch 88, loss: 0.215\n",
      "Epoch 89, loss: 0.215\n",
      "Epoch 90, loss: 0.214\n",
      "Epoch 91, loss: 0.214\n",
      "Epoch 92, loss: 0.213\n",
      "Epoch 93, loss: 0.213\n",
      "Epoch 94, loss: 0.213\n",
      "Epoch 96, loss: 0.212\n",
      "Epoch 97, loss: 0.212\n",
      "Epoch 98, loss: 0.211\n",
      "Epoch 99, loss: 0.211\n",
      "Epoch 100, loss: 0.211\n",
      "Epoch 101, loss: 0.210\n",
      "Epoch 102, loss: 0.210\n",
      "Epoch 103, loss: 0.210\n",
      "Epoch 104, loss: 0.209\n",
      "Epoch 105, loss: 0.209\n",
      "Epoch 106, loss: 0.209\n",
      "Epoch 107, loss: 0.208\n",
      "Epoch 108, loss: 0.208\n",
      "Epoch 109, loss: 0.208\n",
      "Epoch 110, loss: 0.207\n",
      "Epoch 111, loss: 0.207\n",
      "Epoch 112, loss: 0.207\n",
      "Epoch 113, loss: 0.206\n",
      "Epoch 114, loss: 0.206\n",
      "Epoch 115, loss: 0.206\n",
      "Epoch 116, loss: 0.206\n",
      "Epoch 117, loss: 0.205\n",
      "Epoch 118, loss: 0.205\n",
      "Epoch 119, loss: 0.205\n",
      "Epoch 120, loss: 0.204\n",
      "Epoch 121, loss: 0.204\n",
      "Epoch 122, loss: 0.204\n",
      "Epoch 123, loss: 0.204\n",
      "Epoch 124, loss: 0.203\n",
      "Epoch 125, loss: 0.203\n",
      "Epoch 126, loss: 0.203\n",
      "Epoch 127, loss: 0.202\n",
      "Epoch 128, loss: 0.202\n",
      "Epoch 129, loss: 0.202\n",
      "Epoch 130, loss: 0.202\n",
      "Epoch 131, loss: 0.202\n",
      "Epoch 133, loss: 0.201\n",
      "Epoch 134, loss: 0.201\n",
      "Epoch 135, loss: 0.201\n",
      "Epoch 136, loss: 0.200\n",
      "Epoch 137, loss: 0.200\n",
      "Epoch 138, loss: 0.200\n",
      "Epoch 139, loss: 0.200\n",
      "Epoch 140, loss: 0.200\n",
      "Epoch 141, loss: 0.199\n",
      "Epoch 142, loss: 0.199\n",
      "Epoch 143, loss: 0.199\n",
      "Epoch 144, loss: 0.199\n",
      "Epoch 145, loss: 0.198\n",
      "Epoch 146, loss: 0.198\n",
      "Epoch 147, loss: 0.198\n",
      "Epoch 148, loss: 0.198\n",
      "Epoch 149, loss: 0.198\n",
      "Epoch 150, loss: 0.197\n",
      "Epoch 151, loss: 0.197\n"
     ]
    },
    {
     "ename": "IndexError",
     "evalue": "index 15 is out of range for dimension 0 (of size 15)",
     "output_type": "error",
     "traceback": [
      "\u001b[0;31m---------------------------------------------------------------------------\u001b[0m",
      "\u001b[0;31mIndexError\u001b[0m                                Traceback (most recent call last)",
      "\u001b[0;32m<ipython-input-13-16e5bbba9bc8>\u001b[0m in \u001b[0;36m<module>\u001b[0;34m()\u001b[0m\n\u001b[1;32m     26\u001b[0m       \u001b[0moutput\u001b[0m \u001b[0;34m=\u001b[0m \u001b[0mnet\u001b[0m\u001b[0;34m(\u001b[0m\u001b[0mVariable\u001b[0m\u001b[0;34m(\u001b[0m\u001b[0mtrain_loader\u001b[0m\u001b[0;34m.\u001b[0m\u001b[0mdataset\u001b[0m\u001b[0;34m[\u001b[0m\u001b[0;36m0\u001b[0m\u001b[0;34m]\u001b[0m\u001b[0;34m[\u001b[0m\u001b[0;36m0\u001b[0m\u001b[0;34m]\u001b[0m\u001b[0;34m.\u001b[0m\u001b[0munsqueeze\u001b[0m\u001b[0;34m(\u001b[0m\u001b[0;36m0\u001b[0m\u001b[0;34m)\u001b[0m\u001b[0;34m.\u001b[0m\u001b[0mcuda\u001b[0m\u001b[0;34m(\u001b[0m\u001b[0;34m)\u001b[0m\u001b[0;34m)\u001b[0m\u001b[0;34m)\u001b[0m\u001b[0;34m\u001b[0m\u001b[0m\n\u001b[1;32m     27\u001b[0m       \u001b[0moutput\u001b[0m \u001b[0;34m=\u001b[0m \u001b[0moutput\u001b[0m\u001b[0;34m[\u001b[0m\u001b[0;36m0\u001b[0m\u001b[0;34m]\u001b[0m\u001b[0;34m.\u001b[0m\u001b[0mdata\u001b[0m\u001b[0;34m.\u001b[0m\u001b[0mview\u001b[0m\u001b[0;34m(\u001b[0m\u001b[0;36m1\u001b[0m\u001b[0;34m,\u001b[0m\u001b[0;36m44\u001b[0m\u001b[0;34m,\u001b[0m\u001b[0;36m53\u001b[0m\u001b[0;34m,\u001b[0m\u001b[0;36m44\u001b[0m\u001b[0;34m)\u001b[0m\u001b[0;34m.\u001b[0m\u001b[0mcpu\u001b[0m\u001b[0;34m(\u001b[0m\u001b[0;34m)\u001b[0m\u001b[0;34m\u001b[0m\u001b[0m\n\u001b[0;32m---> 28\u001b[0;31m       \u001b[0mreconstructed_images\u001b[0m\u001b[0;34m[\u001b[0m\u001b[0mint\u001b[0m\u001b[0;34m(\u001b[0m\u001b[0mepoch\u001b[0m\u001b[0;34m/\u001b[0m\u001b[0;36m10\u001b[0m\u001b[0;34m)\u001b[0m\u001b[0;34m]\u001b[0m \u001b[0;34m=\u001b[0m \u001b[0moutput\u001b[0m\u001b[0;34m[\u001b[0m\u001b[0;36m0\u001b[0m\u001b[0;34m,\u001b[0m\u001b[0;34m:\u001b[0m\u001b[0;34m,\u001b[0m\u001b[0;34m:\u001b[0m\u001b[0;34m,\u001b[0m\u001b[0;36m28\u001b[0m\u001b[0;34m]\u001b[0m \u001b[0;31m#slice number 28\u001b[0m\u001b[0;34m\u001b[0m\u001b[0m\n\u001b[0m\u001b[1;32m     29\u001b[0m       \u001b[0mreconstructed_images_2\u001b[0m\u001b[0;34m[\u001b[0m\u001b[0mint\u001b[0m\u001b[0;34m(\u001b[0m\u001b[0mepoch\u001b[0m\u001b[0;34m/\u001b[0m\u001b[0;36m10\u001b[0m\u001b[0;34m)\u001b[0m\u001b[0;34m]\u001b[0m \u001b[0;34m=\u001b[0m \u001b[0moutput\u001b[0m\u001b[0;34m[\u001b[0m\u001b[0;36m0\u001b[0m\u001b[0;34m,\u001b[0m\u001b[0;34m:\u001b[0m\u001b[0;34m,\u001b[0m\u001b[0;34m:\u001b[0m\u001b[0;34m,\u001b[0m\u001b[0;36m10\u001b[0m\u001b[0;34m]\u001b[0m \u001b[0;31m#slice number 10\u001b[0m\u001b[0;34m\u001b[0m\u001b[0m\n\u001b[1;32m     30\u001b[0m \u001b[0;34m\u001b[0m\u001b[0m\n",
      "\u001b[0;31mIndexError\u001b[0m: index 15 is out of range for dimension 0 (of size 15)"
     ]
    }
   ],
   "source": [
    "for epoch in range(151):  # loop over the dataset multiple times\n",
    "    \n",
    "    running_loss = 0.0\n",
    "    for i, data in enumerate(train_loader):\n",
    "        # get the inputs\n",
    "        inputs, labels = data\n",
    "        \n",
    "        # wrap them in Variable\n",
    "        inputs, labels = Variable(inputs.cuda()), Variable(labels.cuda())\n",
    "\n",
    "        # zero the parameter gradients\n",
    "        optimizer.zero_grad()\n",
    "\n",
    "        # forward + backward + optimize\n",
    "        reconstructed_batch, mu, logvar = net(inputs)\n",
    "        \n",
    "        outputs = net(inputs)\n",
    "        loss = loss_function(reconstructed_batch, inputs, mu, logvar)\n",
    "        loss.backward()\n",
    "        optimizer.step()\n",
    "        running_loss += loss.data[0]*inputs.size(0)\n",
    "\n",
    "    print('Epoch %d, loss: %.3f' % (epoch + 1, running_loss / NUMBER_OF_IMAGES))\n",
    "    \n",
    "    if (epoch%10==0): #saving examples of reconstructed images every 10 epochs\n",
    "      output = net(Variable(train_loader.dataset[0][0].unsqueeze(0).cuda()))\n",
    "      output = output[0].data.view(1,44,53,44).cpu()\n",
    "      reconstructed_images[int(epoch/10)] = output[0,:,:,28] #slice number 28\n",
    "      reconstructed_images_2[int(epoch/10)] = output[0,:,:,10] #slice number 10\n",
    "    \n",
    "    \n",
    "print('Finished Training')"
   ]
  },
  {
   "cell_type": "markdown",
   "metadata": {
    "colab_type": "text",
    "id": "Evwol0TZI4M3"
   },
   "source": [
    "Let's see how the quality of reconstructed images improve over training time. The original image looks like this:"
   ]
  },
  {
   "cell_type": "code",
   "execution_count": 22,
   "metadata": {
    "colab": {
     "autoexec": {
      "startup": false,
      "wait_interval": 0
     },
     "base_uri": "https://localhost:8080/",
     "height": 181,
     "output_extras": [
      {
       "item_id": 1
      }
     ]
    },
    "colab_type": "code",
    "collapsed": false,
    "executionInfo": {
     "elapsed": 504,
     "status": "error",
     "timestamp": 1517954826899,
     "user": {
      "displayName": "Paweł Morawiecki",
      "photoUrl": "//lh6.googleusercontent.com/-XRVwUWS-5Ro/AAAAAAAAAAI/AAAAAAAAAyc/xBkFQRPclWw/s50-c-k-no/photo.jpg",
      "userId": "100547019570527921896"
     },
     "user_tz": -60
    },
    "id": "Xw7xCsefJgvx",
    "outputId": "f5e671b3-4a6f-4583-b04e-dd54b1c259bb"
   },
   "outputs": [
    {
     "data": {
      "text/plain": [
       "<matplotlib.image.AxesImage at 0x7f9ffc349c50>"
      ]
     },
     "execution_count": 22,
     "metadata": {},
     "output_type": "execute_result"
    },
    {
     "data": {
      "image/png": "[encoded data removed]",
      "text/plain": [
       "<matplotlib.figure.Figure at 0x7f9ffc4fa208>"
      ]
     },
     "metadata": {},
     "output_type": "display_data"
    }
   ],
   "source": [
    "fig = plt.figure(figsize=(4,4))\n",
    "my_slice = images[0,0,:,:,28]\n",
    "plt.imshow(my_slice, cmap=\"Greys\")"
   ]
  },
  {
   "cell_type": "markdown",
   "metadata": {
    "colab_type": "text",
    "id": "1oVh5mS9JzeG"
   },
   "source": [
    "and below we show reconstructions of the above slice every 10 epochs"
   ]
  },
  {
   "cell_type": "code",
   "execution_count": 16,
   "metadata": {
    "colab": {
     "autoexec": {
      "startup": false,
      "wait_interval": 0
     }
    },
    "colab_type": "code",
    "collapsed": true,
    "id": "F7RB6EYHteie"
   },
   "outputs": [],
   "source": [
    "grid_1 = torchvision.utils.make_grid(reconstructed_images, nrow=5)\n",
    "grid_2 = torchvision.utils.make_grid(reconstructed_images_2, nrow=5)\n",
    "grid_1 = grid_1[0,:,:]\n",
    "grid_2 = grid_2[0,:,:]"
   ]
  },
  {
   "cell_type": "code",
   "execution_count": 17,
   "metadata": {
    "colab": {
     "autoexec": {
      "startup": false,
      "wait_interval": 0
     },
     "base_uri": "https://localhost:8080/",
     "height": 687,
     "output_extras": [
      {
       "item_id": 1
      },
      {
       "item_id": 2
      }
     ]
    },
    "colab_type": "code",
    "collapsed": false,
    "executionInfo": {
     "elapsed": 1119,
     "status": "ok",
     "timestamp": 1517924994442,
     "user": {
      "displayName": "Paweł Morawiecki",
      "photoUrl": "//lh6.googleusercontent.com/-XRVwUWS-5Ro/AAAAAAAAAAI/AAAAAAAAAyc/xBkFQRPclWw/s50-c-k-no/photo.jpg",
      "userId": "100547019570527921896"
     },
     "user_tz": -60
    },
    "id": "p5oo5TSQ-09E",
    "outputId": "bc46203d-9975-42a7-b8ce-ebff349acc55"
   },
   "outputs": [
    {
     "data": {
      "text/plain": [
       "<matplotlib.image.AxesImage at 0x7fa01ba79320>"
      ]
     },
     "execution_count": 17,
     "metadata": {},
     "output_type": "execute_result"
    },
    {
     "data": {
      "image/png": "[encoded data removed]",
      "text/plain": [
       "<matplotlib.figure.Figure at 0x7fa044897a58>"
      ]
     },
     "metadata": {},
     "output_type": "display_data"
    }
   ],
   "source": [
    "plt.rcParams['grid.linewidth'] = 0.0\n",
    "fig = plt.figure(figsize=(22,22))\n",
    "plt.imshow(grid_1, cmap=\"Greys\")"
   ]
  },
  {
   "cell_type": "markdown",
   "metadata": {
    "colab_type": "text",
    "id": "j_STWSiHTol7"
   },
   "source": [
    "Let's check another slice"
   ]
  },
  {
   "cell_type": "code",
   "execution_count": 23,
   "metadata": {
    "colab": {
     "autoexec": {
      "startup": false,
      "wait_interval": 0
     },
     "base_uri": "https://localhost:8080/",
     "height": 284,
     "output_extras": [
      {
       "item_id": 1
      },
      {
       "item_id": 2
      }
     ]
    },
    "colab_type": "code",
    "collapsed": false,
    "executionInfo": {
     "elapsed": 602,
     "status": "ok",
     "timestamp": 1517923790682,
     "user": {
      "displayName": "Paweł Morawiecki",
      "photoUrl": "//lh6.googleusercontent.com/-XRVwUWS-5Ro/AAAAAAAAAAI/AAAAAAAAAyc/xBkFQRPclWw/s50-c-k-no/photo.jpg",
      "userId": "100547019570527921896"
     },
     "user_tz": -60
    },
    "id": "EwcglxLFTs0-",
    "outputId": "0a25e957-d219-4373-d66c-6a344ea8ff50"
   },
   "outputs": [
    {
     "data": {
      "text/plain": [
       "<matplotlib.image.AxesImage at 0x7f9ffc2e30b8>"
      ]
     },
     "execution_count": 23,
     "metadata": {},
     "output_type": "execute_result"
    },
    {
     "data": {
      "image/png": "[encoded data removed]",
      "text/plain": [
       "<matplotlib.figure.Figure at 0x7f9ffc300828>"
      ]
     },
     "metadata": {},
     "output_type": "display_data"
    }
   ],
   "source": [
    "fig = plt.figure(figsize=(4,4))\n",
    "my_slice = images[0,0,:,:,10]\n",
    "plt.imshow(my_slice, cmap=\"Greys\")"
   ]
  },
  {
   "cell_type": "code",
   "execution_count": 19,
   "metadata": {
    "colab": {
     "autoexec": {
      "startup": false,
      "wait_interval": 0
     },
     "base_uri": "https://localhost:8080/",
     "height": 631,
     "output_extras": [
      {
       "item_id": 1
      },
      {
       "item_id": 2
      }
     ]
    },
    "colab_type": "code",
    "collapsed": false,
    "executionInfo": {
     "elapsed": 699,
     "status": "ok",
     "timestamp": 1517925010718,
     "user": {
      "displayName": "Paweł Morawiecki",
      "photoUrl": "//lh6.googleusercontent.com/-XRVwUWS-5Ro/AAAAAAAAAAI/AAAAAAAAAyc/xBkFQRPclWw/s50-c-k-no/photo.jpg",
      "userId": "100547019570527921896"
     },
     "user_tz": -60
    },
    "id": "NBllv3Rj_orz",
    "outputId": "578153d1-4a16-4b00-d30c-31a1a6e8d22c"
   },
   "outputs": [
    {
     "data": {
      "text/plain": [
       "<matplotlib.image.AxesImage at 0x7f9ffc5165f8>"
      ]
     },
     "execution_count": 19,
     "metadata": {},
     "output_type": "execute_result"
    },
    {
     "data": {
      "image/png": "[encoded data removed]",
      "text/plain": [
       "<matplotlib.figure.Figure at 0x7fa00404a438>"
      ]
     },
     "metadata": {},
     "output_type": "display_data"
    }
   ],
   "source": [
    "fig = plt.figure(figsize=(20,20))\n",
    "plt.imshow(grid_2, cmap=\"Greys\")"
   ]
  },
  {
   "cell_type": "markdown",
   "metadata": {
    "colab": {
     "autoexec": {
      "startup": false,
      "wait_interval": 0
     }
    },
    "colab_type": "code",
    "id": "_Cqv72XLYYoT"
   },
   "source": [
    "After 70-80 basically the reconstructed images look the same. However, the loss function still goes down (presumably latent space is getting closer to the desired distribution)"
   ]
  },
  {
   "cell_type": "code",
   "execution_count": null,
   "metadata": {
    "collapsed": true
   },
   "outputs": [],
   "source": []
  }
 ],
 "metadata": {
  "accelerator": "GPU",
  "colab": {
   "collapsed_sections": [],
   "default_view": {},
   "name": "VAE_ABIDE_1.ipynb",
   "provenance": [],
   "version": "0.3.2",
   "views": {}
  },
  "kernelspec": {
   "display_name": "Python 2",
   "language": "python",
   "name": "python2"
  },
  "language_info": {
   "codemirror_mode": {
    "name": "ipython",
    "version": 2
   },
   "file_extension": ".py",
   "mimetype": "text/x-python",
   "name": "python",
   "nbconvert_exporter": "python",
   "pygments_lexer": "ipython2",
   "version": "2.7.13"
  }
 },
 "nbformat": 4,
 "nbformat_minor": 1
}
